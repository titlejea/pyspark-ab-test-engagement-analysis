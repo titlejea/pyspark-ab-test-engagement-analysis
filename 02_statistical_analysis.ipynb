{
  "nbformat": 4,
  "nbformat_minor": 0,
  "metadata": {
    "colab": {
      "provenance": []
    },
    "kernelspec": {
      "name": "python3",
      "display_name": "Python 3"
    },
    "language_info": {
      "name": "python"
    }
  },
  "cells": [
    {
      "cell_type": "code",
      "source": [
        "# Section 1: Experiment Design & Hypothetical Power Analysis\n",
        "\n",
        "import numpy as np\n",
        "from statsmodels.stats.power import zt_ind_solve_power\n",
        "from statsmodels.stats.proportion import proportion_effectsize\n",
        "\n",
        "# Define Parameters for Power Analysis (In a real project, these are defined BEFORE the test.)\n",
        "\n",
        "# We use the control group's rate as our baseline. From our results, this was ~1.79%.\n",
        "baseline_rate = 0.0179\n",
        "\n",
        "# Define our Minimum Detectable Effect (MDE).\n",
        "# This is the smallest improvement we would consider a business success.\n",
        "# For this test, we're looking for at least a 0.5% absolute increase in the engagement rate.\n",
        "mde_absolute = 0.005\n",
        "mde_absolute = 0.005\n",
        "target_rate = baseline_rate + mde_absolute\n",
        "\n",
        "alpha = 0.05  # 5% chance of a false positive\n",
        "power = 0.80  # 80% chance of detecting a real effect\n",
        "\n",
        "# Calculate Required Sample Size\n",
        "effect_size = proportion_effectsize(target_rate, baseline_rate)\n",
        "\n",
        "required_sample_size = zt_ind_solve_power(\n",
        "    effect_size=effect_size,\n",
        "    alpha=alpha,\n",
        "    power=power,\n",
        "    alternative='larger'  # one-tailed larger\n",
        ")\n",
        "\n",
        "print(f\"Baseline Rate: {baseline_rate:.2%}\")\n",
        "print(f\"Minimum Detectable Effect (MDE): {mde_absolute:+.2%}\")\n",
        "print(f\"Target Rate: {target_rate:.2%}\")\n",
        "print(\"-\" * 30)\n",
        "print(f\"To reliably detect an absolute lift of {mde_absolute:+.2%},\")\n",
        "print(f\"we would need a sample size of approximately {int(np.ceil(required_sample_size))} users per group.\")"
      ],
      "metadata": {
        "colab": {
          "base_uri": "https://localhost:8080/"
        },
        "id": "nZtmjdu_RgZM",
        "outputId": "c02c4190-9b6a-432f-9a3e-7f8b12004f91"
      },
      "execution_count": null,
      "outputs": [
        {
          "output_type": "stream",
          "name": "stdout",
          "text": [
            "Baseline Rate: 1.79%\n",
            "Minimum Detectable Effect (MDE): +0.50%\n",
            "Target Rate: 2.29%\n",
            "------------------------------\n",
            "To reliably detect an absolute lift of +0.50%,\n",
            "we would need a sample size of approximately 9848 users per group.\n"
          ]
        }
      ]
    },
    {
      "cell_type": "code",
      "execution_count": null,
      "metadata": {
        "colab": {
          "base_uri": "https://localhost:8080/"
        },
        "id": "kZpgA_UEDpM4",
        "outputId": "c696d3ac-32b9-483b-82ac-f9b8ec0bb2e7"
      },
      "outputs": [
        {
          "output_type": "stream",
          "name": "stdout",
          "text": [
            "Mounted at /content/drive\n",
            "Summary data loaded successfully:\n",
            "   message_type  n_users  n_engaged  engagement_rate\n",
            "0  Personalized   564577      14423         0.025547\n",
            "1       Generic    23524        420         0.017854\n"
          ]
        }
      ],
      "source": [
        "# 2-01 Import Libraries and Load data\n",
        "\n",
        "import pandas as pd\n",
        "import numpy as np\n",
        "from statsmodels.stats.proportion import proportions_ztest\n",
        "\n",
        "from google.colab import drive\n",
        "drive.mount('/content/drive')\n",
        "\n",
        "file_path = \"/content/drive/MyDrive/engagement_summary.csv\"\n",
        "try:\n",
        "    summary_df = pd.read_csv(file_path)\n",
        "    print(\"Summary data loaded successfully:\")\n",
        "    print(summary_df)\n",
        "except FileNotFoundError:\n",
        "    print(f\"File not found at: {file_path}\")"
      ]
    },
    {
      "cell_type": "code",
      "source": [
        "# 2-02 Hypothesis Testing (proportions Z-test)\n",
        "\n",
        "# Prepare data for the Z-test\n",
        "count = summary_df['n_engaged'] # Number of engaged users in each group (successes).\n",
        "nobs = summary_df['n_users']    # Total number of users in each group (observations).\n",
        "\n",
        "# Perform a two-sided Z-test.\n",
        "z_stat, p_value = proportions_ztest(count=count, nobs=nobs)\n",
        "\n",
        "print(\"\\n--- Z-test Results ---\")\n",
        "print(f\"Z-statistic: {z_stat:.20f}\")\n",
        "print(f\"P-value: {p_value:.20f}\")"
      ],
      "metadata": {
        "colab": {
          "base_uri": "https://localhost:8080/"
        },
        "id": "5h-pACvOFXWP",
        "outputId": "e0d491fb-92e6-447b-ecf5-141fd1b79527"
      },
      "execution_count": null,
      "outputs": [
        {
          "output_type": "stream",
          "name": "stdout",
          "text": [
            "\n",
            "--- Z-test Results ---\n",
            "Z-statistic: 7.37007812654541449859\n",
            "P-value: 0.00000000000017052807\n"
          ]
        }
      ]
    },
    {
      "cell_type": "code",
      "source": [
        "# 2-03 Result\n",
        "\n",
        "alpha = 0.05  # Set the significance level (alpha) to 5%.\n",
        "\n",
        "if p_value < alpha:\n",
        "    print(f\"Statistically Significant (p-value < {alpha}).\")\n",
        "    print(\"We can conclude that 'message_type' has a significant effect on the Engagement Rate.\")\n",
        "\n",
        "    # Calculate lift to see which version is better and by how much.\n",
        "    rate_generic = summary_df[summary_df['message_type'] == 'Generic']['engagement_rate'].iloc[0]\n",
        "    rate_personalized = summary_df[summary_df['message_type'] == 'Personalized']['engagement_rate'].iloc[0]\n",
        "\n",
        "    absolute_lift = rate_personalized - rate_generic\n",
        "    relative_lift = (rate_personalized - rate_generic) / rate_generic\n",
        "\n",
        "    print(f\"-> Personalized Rate: {rate_personalized:.2%}\")\n",
        "    print(f\"-> Generic Rate (Control): {rate_generic:.2%}\")\n",
        "    print(f\"Absolute Lift: {absolute_lift:+.2%}\")\n",
        "    print(f\"Relative Lift: {relative_lift:+.2%}\")\n",
        "\n",
        "else:\n",
        "    print(f\"Not Statistically Significant (p-value >= {alpha}).\")\n",
        "    print(\"We do not have enough evidence to conclude that there is a difference between the message types.\")\n"
      ],
      "metadata": {
        "colab": {
          "base_uri": "https://localhost:8080/"
        },
        "id": "LkIyDPI3GD1Y",
        "outputId": "9e4cd567-d944-4dab-c34c-76f205f1d277"
      },
      "execution_count": null,
      "outputs": [
        {
          "output_type": "stream",
          "name": "stdout",
          "text": [
            "Statistically Significant (p-value < 0.05).\n",
            "We can conclude that 'message_type' has a significant effect on the Engagement Rate.\n",
            "-> Personalized Rate: 2.55%\n",
            "-> Generic Rate (Control): 1.79%\n",
            "Absolute Lift: +0.77%\n",
            "Relative Lift: +43.09%\n"
          ]
        }
      ]
    },
    {
      "cell_type": "code",
      "source": [
        "# 2-04 Calculate Confidence Interval and Conslusion\n",
        "\n",
        "n_personalized = summary_df.loc[summary_df['message_type'] == 'Personalized', 'n_users'].iloc[0]\n",
        "n_engaged_personalized = summary_df.loc[summary_df['message_type'] == 'Personalized', 'n_engaged'].iloc[0]\n",
        "\n",
        "n_generic = summary_df.loc[summary_df['message_type'] == 'Generic', 'n_users'].iloc[0]\n",
        "n_engaged_generic = summary_df.loc[summary_df['message_type'] == 'Generic', 'n_engaged'].iloc[0]\n",
        "\n",
        "std_err_diff = np.sqrt((rate_personalized * (1 - rate_personalized) / n_personalized) + \\\n",
        "                       (rate_generic * (1 - rate_generic) / n_generic))\n",
        "\n",
        "margin_of_error = 1.96 * std_err_diff\n",
        "ci_low = absolute_lift - margin_of_error\n",
        "ci_high = absolute_lift + margin_of_error\n",
        "\n",
        "print(f\"Absolute Lift: {absolute_lift:+.2%}\")\n",
        "print(f\"Margin of Error: {margin_of_error:.2%}\")\n",
        "print(f\"We are 95% confident that personalizing messages increases the engagement rate by {ci_low:+.2%} to {ci_high:+.2%} in absolute terms.\")"
      ],
      "metadata": {
        "colab": {
          "base_uri": "https://localhost:8080/"
        },
        "id": "IavNCLqwJ-mj",
        "outputId": "5774196d-22d4-4c9c-fb14-d9de396d0a0b"
      },
      "execution_count": null,
      "outputs": [
        {
          "output_type": "stream",
          "name": "stdout",
          "text": [
            "Absolute Lift: +0.77%\n",
            "Margin of Error: 0.17%\n",
            "We are 95% confident that personalizing messages increases the engagement rate by +0.60% to +0.94% in absolute terms.\n"
          ]
        }
      ]
    }
  ]
}