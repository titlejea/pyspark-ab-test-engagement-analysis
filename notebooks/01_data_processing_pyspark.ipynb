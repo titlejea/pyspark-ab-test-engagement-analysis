{
  "nbformat": 4,
  "nbformat_minor": 0,
  "metadata": {
    "colab": {
      "provenance": []
    },
    "kernelspec": {
      "name": "python3",
      "display_name": "Python 3"
    },
    "language_info": {
      "name": "python"
    }
  },
  "cells": [
    {
      "cell_type": "code",
      "execution_count": null,
      "metadata": {
        "colab": {
          "base_uri": "https://localhost:8080/",
          "height": 109
        },
        "id": "2qM5Xswy115Q",
        "outputId": "86bd56be-683d-4a6c-fb00-56f246f86d87"
      },
      "outputs": [
        {
          "output_type": "stream",
          "name": "stdout",
          "text": [
            "Requirement already satisfied: pyspark in /usr/local/lib/python3.11/dist-packages (3.5.1)\n",
            "Requirement already satisfied: py4j==0.10.9.7 in /usr/local/lib/python3.11/dist-packages (from pyspark) (0.10.9.7)\n"
          ]
        },
        {
          "output_type": "display_data",
          "data": {
            "text/plain": [
              "<IPython.core.display.HTML object>"
            ],
            "text/html": [
              "\n",
              "     <input type=\"file\" id=\"files-0e7663e8-4bab-440f-8222-a165d8e6b1b3\" name=\"files[]\" multiple disabled\n",
              "        style=\"border:none\" />\n",
              "     <output id=\"result-0e7663e8-4bab-440f-8222-a165d8e6b1b3\">\n",
              "      Upload widget is only available when the cell has been executed in the\n",
              "      current browser session. Please rerun this cell to enable.\n",
              "      </output>\n",
              "      <script>// Copyright 2017 Google LLC\n",
              "//\n",
              "// Licensed under the Apache License, Version 2.0 (the \"License\");\n",
              "// you may not use this file except in compliance with the License.\n",
              "// You may obtain a copy of the License at\n",
              "//\n",
              "//      http://www.apache.org/licenses/LICENSE-2.0\n",
              "//\n",
              "// Unless required by applicable law or agreed to in writing, software\n",
              "// distributed under the License is distributed on an \"AS IS\" BASIS,\n",
              "// WITHOUT WARRANTIES OR CONDITIONS OF ANY KIND, either express or implied.\n",
              "// See the License for the specific language governing permissions and\n",
              "// limitations under the License.\n",
              "\n",
              "/**\n",
              " * @fileoverview Helpers for google.colab Python module.\n",
              " */\n",
              "(function(scope) {\n",
              "function span(text, styleAttributes = {}) {\n",
              "  const element = document.createElement('span');\n",
              "  element.textContent = text;\n",
              "  for (const key of Object.keys(styleAttributes)) {\n",
              "    element.style[key] = styleAttributes[key];\n",
              "  }\n",
              "  return element;\n",
              "}\n",
              "\n",
              "// Max number of bytes which will be uploaded at a time.\n",
              "const MAX_PAYLOAD_SIZE = 100 * 1024;\n",
              "\n",
              "function _uploadFiles(inputId, outputId) {\n",
              "  const steps = uploadFilesStep(inputId, outputId);\n",
              "  const outputElement = document.getElementById(outputId);\n",
              "  // Cache steps on the outputElement to make it available for the next call\n",
              "  // to uploadFilesContinue from Python.\n",
              "  outputElement.steps = steps;\n",
              "\n",
              "  return _uploadFilesContinue(outputId);\n",
              "}\n",
              "\n",
              "// This is roughly an async generator (not supported in the browser yet),\n",
              "// where there are multiple asynchronous steps and the Python side is going\n",
              "// to poll for completion of each step.\n",
              "// This uses a Promise to block the python side on completion of each step,\n",
              "// then passes the result of the previous step as the input to the next step.\n",
              "function _uploadFilesContinue(outputId) {\n",
              "  const outputElement = document.getElementById(outputId);\n",
              "  const steps = outputElement.steps;\n",
              "\n",
              "  const next = steps.next(outputElement.lastPromiseValue);\n",
              "  return Promise.resolve(next.value.promise).then((value) => {\n",
              "    // Cache the last promise value to make it available to the next\n",
              "    // step of the generator.\n",
              "    outputElement.lastPromiseValue = value;\n",
              "    return next.value.response;\n",
              "  });\n",
              "}\n",
              "\n",
              "/**\n",
              " * Generator function which is called between each async step of the upload\n",
              " * process.\n",
              " * @param {string} inputId Element ID of the input file picker element.\n",
              " * @param {string} outputId Element ID of the output display.\n",
              " * @return {!Iterable<!Object>} Iterable of next steps.\n",
              " */\n",
              "function* uploadFilesStep(inputId, outputId) {\n",
              "  const inputElement = document.getElementById(inputId);\n",
              "  inputElement.disabled = false;\n",
              "\n",
              "  const outputElement = document.getElementById(outputId);\n",
              "  outputElement.innerHTML = '';\n",
              "\n",
              "  const pickedPromise = new Promise((resolve) => {\n",
              "    inputElement.addEventListener('change', (e) => {\n",
              "      resolve(e.target.files);\n",
              "    });\n",
              "  });\n",
              "\n",
              "  const cancel = document.createElement('button');\n",
              "  inputElement.parentElement.appendChild(cancel);\n",
              "  cancel.textContent = 'Cancel upload';\n",
              "  const cancelPromise = new Promise((resolve) => {\n",
              "    cancel.onclick = () => {\n",
              "      resolve(null);\n",
              "    };\n",
              "  });\n",
              "\n",
              "  // Wait for the user to pick the files.\n",
              "  const files = yield {\n",
              "    promise: Promise.race([pickedPromise, cancelPromise]),\n",
              "    response: {\n",
              "      action: 'starting',\n",
              "    }\n",
              "  };\n",
              "\n",
              "  cancel.remove();\n",
              "\n",
              "  // Disable the input element since further picks are not allowed.\n",
              "  inputElement.disabled = true;\n",
              "\n",
              "  if (!files) {\n",
              "    return {\n",
              "      response: {\n",
              "        action: 'complete',\n",
              "      }\n",
              "    };\n",
              "  }\n",
              "\n",
              "  for (const file of files) {\n",
              "    const li = document.createElement('li');\n",
              "    li.append(span(file.name, {fontWeight: 'bold'}));\n",
              "    li.append(span(\n",
              "        `(${file.type || 'n/a'}) - ${file.size} bytes, ` +\n",
              "        `last modified: ${\n",
              "            file.lastModifiedDate ? file.lastModifiedDate.toLocaleDateString() :\n",
              "                                    'n/a'} - `));\n",
              "    const percent = span('0% done');\n",
              "    li.appendChild(percent);\n",
              "\n",
              "    outputElement.appendChild(li);\n",
              "\n",
              "    const fileDataPromise = new Promise((resolve) => {\n",
              "      const reader = new FileReader();\n",
              "      reader.onload = (e) => {\n",
              "        resolve(e.target.result);\n",
              "      };\n",
              "      reader.readAsArrayBuffer(file);\n",
              "    });\n",
              "    // Wait for the data to be ready.\n",
              "    let fileData = yield {\n",
              "      promise: fileDataPromise,\n",
              "      response: {\n",
              "        action: 'continue',\n",
              "      }\n",
              "    };\n",
              "\n",
              "    // Use a chunked sending to avoid message size limits. See b/62115660.\n",
              "    let position = 0;\n",
              "    do {\n",
              "      const length = Math.min(fileData.byteLength - position, MAX_PAYLOAD_SIZE);\n",
              "      const chunk = new Uint8Array(fileData, position, length);\n",
              "      position += length;\n",
              "\n",
              "      const base64 = btoa(String.fromCharCode.apply(null, chunk));\n",
              "      yield {\n",
              "        response: {\n",
              "          action: 'append',\n",
              "          file: file.name,\n",
              "          data: base64,\n",
              "        },\n",
              "      };\n",
              "\n",
              "      let percentDone = fileData.byteLength === 0 ?\n",
              "          100 :\n",
              "          Math.round((position / fileData.byteLength) * 100);\n",
              "      percent.textContent = `${percentDone}% done`;\n",
              "\n",
              "    } while (position < fileData.byteLength);\n",
              "  }\n",
              "\n",
              "  // All done.\n",
              "  yield {\n",
              "    response: {\n",
              "      action: 'complete',\n",
              "    }\n",
              "  };\n",
              "}\n",
              "\n",
              "scope.google = scope.google || {};\n",
              "scope.google.colab = scope.google.colab || {};\n",
              "scope.google.colab._files = {\n",
              "  _uploadFiles,\n",
              "  _uploadFilesContinue,\n",
              "};\n",
              "})(self);\n",
              "</script> "
            ]
          },
          "metadata": {}
        },
        {
          "output_type": "stream",
          "name": "stdout",
          "text": [
            "Saving conservation_dataset.csv to conservation_dataset (1).csv\n"
          ]
        }
      ],
      "source": [
        "# 1-01 Set up PySpark session\n",
        "\n",
        "!pip install pyspark\n",
        "\n",
        "from google.colab import files\n",
        "uploaded = files.upload()\n",
        "\n",
        "spark = SparkSession.builder \\\n",
        "    .appName(\"Engagement_AB_Test_Processing\") \\\n",
        "    .getOrCreate()"
      ]
    },
    {
      "cell_type": "code",
      "source": [
        "# 1-02 Set up schema and Data Loading\n",
        "\n",
        "from pyspark.sql import SparkSession\n",
        "from pyspark.sql.functions import col, when, count, countDistinct, sum as _sum\n",
        "from pyspark.sql.types import StructType, StructField, StringType, BooleanType, IntegerType\n",
        "\n",
        "schema = StructType([\n",
        "    StructField(\"row_index\", IntegerType(), True),\n",
        "    StructField(\"user_id\", StringType(), True),\n",
        "    StructField(\"message_type\", StringType(), True),\n",
        "    StructField(\"engaged\", BooleanType(), True),\n",
        "    StructField(\"total_messages_seen\", IntegerType(), True),\n",
        "    StructField(\"most_engagement_weekday\", StringType(), True),\n",
        "    StructField(\"most_engagement_hour\", IntegerType(), True)\n",
        "])\n",
        "\n",
        "df = spark.read.csv(\"conservation_dataset.csv\", header=True, schema=schema)\n",
        "\n",
        "df.printSchema()\n",
        "df.show(5)"
      ],
      "metadata": {
        "colab": {
          "base_uri": "https://localhost:8080/"
        },
        "id": "jcvNgFtr4XFX",
        "outputId": "63f470cb-3ae9-4d48-e412-f545438242f1"
      },
      "execution_count": null,
      "outputs": [
        {
          "output_type": "stream",
          "name": "stdout",
          "text": [
            "root\n",
            " |-- row_index: integer (nullable = true)\n",
            " |-- user_id: string (nullable = true)\n",
            " |-- message_type: string (nullable = true)\n",
            " |-- engaged: boolean (nullable = true)\n",
            " |-- total_messages_seen: integer (nullable = true)\n",
            " |-- most_engagement_weekday: string (nullable = true)\n",
            " |-- most_engagement_hour: integer (nullable = true)\n",
            "\n",
            "+---------+-------+------------+-------+-------------------+-----------------------+--------------------+\n",
            "|row_index|user_id|message_type|engaged|total_messages_seen|most_engagement_weekday|most_engagement_hour|\n",
            "+---------+-------+------------+-------+-------------------+-----------------------+--------------------+\n",
            "|        0|1069124|Personalized|  false|                130|                 Monday|                  20|\n",
            "|        1|1119715|Personalized|  false|                 93|                Tuesday|                  22|\n",
            "|        2|1144181|Personalized|  false|                 21|                Tuesday|                  18|\n",
            "|        3|1435133|Personalized|  false|                355|                Tuesday|                  10|\n",
            "|        4|1015700|Personalized|  false|                276|                 Friday|                  14|\n",
            "+---------+-------+------------+-------+-------------------+-----------------------+--------------------+\n",
            "only showing top 5 rows\n",
            "\n"
          ]
        }
      ]
    },
    {
      "cell_type": "code",
      "source": [
        "# 1-03 Data Cleaning\n",
        "\n",
        "# 3.1 Check and drop rows where key columns are null.\n",
        "df_clean = df.na.drop(subset=[\"user_id\", \"message_type\"])\n",
        "\n",
        "# 3.2 Check and remove users assigned to both experiment groups.\n",
        "users_in_multiple_groups = df_clean.groupBy(\"user_id\") \\\n",
        "    .agg(countDistinct(\"message_type\").alias(\"group_count\")) \\\n",
        "    .filter(col(\"group_count\") > 1)\n",
        "\n",
        "if users_in_multiple_groups.count() > 0:\n",
        "    print(f\"Found {users_in_multiple_groups.count()} users in multiple groups.\")\n",
        "    user_ids_to_remove = users_in_multiple_groups.select(\"user_id\")\n",
        "    df_clean = df_clean.join(user_ids_to_remove, on=\"user_id\", how=\"left_anti\")\n",
        "else:\n",
        "    print(\"No users found in multiple groups.\")\n",
        "\n",
        "# 3.3 Handle duplicates: If a user has multiple rows in the same group, keep only the first one.\n",
        "df_clean = df_clean.dropDuplicates([\"user_id\", \"message_type\"])\n"
      ],
      "metadata": {
        "colab": {
          "base_uri": "https://localhost:8080/"
        },
        "id": "f6KFt9d35VAZ",
        "outputId": "95d7ff44-8508-405d-c1e6-392f3887297d"
      },
      "execution_count": null,
      "outputs": [
        {
          "output_type": "stream",
          "name": "stdout",
          "text": [
            "No users found in multiple groups.\n"
          ]
        }
      ]
    },
    {
      "cell_type": "code",
      "source": [
        "# 1-04 Data Transformation and Aggregation\n",
        "\n",
        "# Transform 'engaged' from boolean to numeric\n",
        "df_transformed = df_clean.withColumn(\"engaged_numeric\", when(col(\"engaged\") == True, 1).otherwise(0))\n",
        "\n",
        "df_transformed.show(5)\n",
        "\n",
        "# Aggregate data to summarize users, engaged users, and engagement rate per group.\n",
        "summary = df_transformed.groupBy(\"message_type\").agg(\n",
        "    count(\"user_id\").alias(\"n_users\"),\n",
        "    _sum(\"engaged_numeric\").alias(\"n_engaged\"),\n",
        "    (_sum(\"engaged_numeric\") / count(\"user_id\")).alias(\"engagement_rate\")\n",
        ")\n",
        "\n",
        "print(\"Aggregated Summary with Engagement Rate:\")\n",
        "summary.show()"
      ],
      "metadata": {
        "colab": {
          "base_uri": "https://localhost:8080/"
        },
        "id": "LOmX6L_J_e46",
        "outputId": "e0b9262b-d3f3-4b59-a380-7f101373e3b0"
      },
      "execution_count": null,
      "outputs": [
        {
          "output_type": "stream",
          "name": "stdout",
          "text": [
            "+---------+-------+------------+-------+-------------------+-----------------------+--------------------+---------------+\n",
            "|row_index|user_id|message_type|engaged|total_messages_seen|most_engagement_weekday|most_engagement_hour|engaged_numeric|\n",
            "+---------+-------+------------+-------+-------------------+-----------------------+--------------------+---------------+\n",
            "|   339935|1000006|Personalized|  false|                  4|               Saturday|                  17|              0|\n",
            "|      879|1000007|Personalized|  false|                 65|                 Friday|                  11|              0|\n",
            "|   377813|1000011|Personalized|  false|                 16|              Wednesday|                  10|              0|\n",
            "|   161279|1000012|Personalized|  false|                 47|               Thursday|                  12|              0|\n",
            "|   235124|1000017|Personalized|  false|                 25|               Saturday|                  23|              0|\n",
            "+---------+-------+------------+-------+-------------------+-----------------------+--------------------+---------------+\n",
            "only showing top 5 rows\n",
            "\n",
            "Aggregated Summary with Engagement Rate:\n",
            "+------------+-------+---------+--------------------+\n",
            "|message_type|n_users|n_engaged|     engagement_rate|\n",
            "+------------+-------+---------+--------------------+\n",
            "|Personalized| 564577|    14423|0.025546559636683747|\n",
            "|     Generic|  23524|      420| 0.01785410644448223|\n",
            "+------------+-------+---------+--------------------+\n",
            "\n"
          ]
        }
      ]
    },
    {
      "cell_type": "code",
      "source": [
        "# 1-06 Data Exporting\n",
        "from google.colab import drive\n",
        "drive.mount('/content/drive')\n",
        "\n",
        "# Convert Spark DataFrame to a Pandas DataFrame for easier single-file saving.\n",
        "summary_pd = summary.toPandas()\n",
        "\n",
        "# Save the summary file to Google Drive.\n",
        "output_file_path = \"/content/drive/MyDrive/engagement_summary.csv\"\n",
        "summary_pd.to_csv(output_file_path, index=False)\n",
        "\n",
        "print(f\"Summary data exported to: {output_file_path}\")\n",
        "spark.stop()"
      ],
      "metadata": {
        "colab": {
          "base_uri": "https://localhost:8080/"
        },
        "id": "Vcr8aFbRA52V",
        "outputId": "304a6844-f2a8-49ac-e724-5aa3cd8478c3"
      },
      "execution_count": null,
      "outputs": [
        {
          "output_type": "stream",
          "name": "stdout",
          "text": [
            "Mounted at /content/drive\n",
            "Summary data exported to: /content/drive/MyDrive/engagement_summary.csv\n"
          ]
        }
      ]
    }
  ]
}
